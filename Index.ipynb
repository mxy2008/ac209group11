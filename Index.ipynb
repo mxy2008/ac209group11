{
 "cells": [
  {
   "cell_type": "code",
   "execution_count": 5,
   "metadata": {
    "collapsed": false
   },
   "outputs": [
    {
     "data": {
      "text/html": [
       "<script>\n",
       "code_show=true;\n",
       "function code_toggle() {\n",
       " if (code_show){\n",
       " $('div.input').hide();\n",
       " } else {\n",
       " $('div.input').show();\n",
       " }\n",
       " code_show = !code_show\n",
       "}\n",
       "$( document ).ready(code_toggle);\n",
       "</script>\n",
       "<form action=\"javascript:code_toggle()\"><input type=\"submit\" value=\"Click here to toggle on/off the raw code.\"></form>"
      ],
      "text/plain": [
       "<IPython.core.display.HTML object>"
      ]
     },
     "execution_count": 5,
     "metadata": {},
     "output_type": "execute_result"
    }
   ],
   "source": [
    "from IPython.display import HTML\n",
    "\n",
    "HTML('''<script>\n",
    "code_show=true;\n",
    "function code_toggle() {\n",
    " if (code_show){\n",
    " $('div.input').hide();\n",
    " } else {\n",
    " $('div.input').show();\n",
    " }\n",
    " code_show = !code_show\n",
    "}\n",
    "$( document ).ready(code_toggle);\n",
    "</script>\n",
    "<form action=\"javascript:code_toggle()\"><input type=\"submit\" value=\"Click here to toggle on/off the raw code.\"></form>''')"
   ]
  },
  {
   "cell_type": "code",
   "execution_count": 3,
   "metadata": {
    "collapsed": false
   },
   "outputs": [
    {
     "data": {
      "text/html": [
       "<h1>Movie Recommender System<h1>\n",
       "<img src=\"movie3.jpg\" alt=\"Movie\" style=\"width:800px;height:500px\"> "
      ],
      "text/plain": [
       "<IPython.core.display.HTML object>"
      ]
     },
     "metadata": {},
     "output_type": "display_data"
    }
   ],
   "source": [
    "%%html\n",
    "<h1>Movie Recommender System<h1>\n",
    "<img src=\"movie3.jpg\" alt=\"Movie\" style=\"width:800px;height:500px\"> "
   ]
  },
  {
   "cell_type": "code",
   "execution_count": 4,
   "metadata": {
    "collapsed": false
   },
   "outputs": [
    {
     "data": {
      "text/html": [
       "<a href=\"Intro.html\" target=\"_self\"><font size=\"5\">Introduction</a>&nbsp&nbsp&nbsp\n",
       "<a href=\"CF.html\" target=\"_self\"><font size=\"5\">Collaborative Filtering</font></a>&nbsp&nbsp\n",
       "<a href=\"MF.html\" target=\"_self\"><font size=\"5\">Matrix Factorization</font></a>&nbsp&nbsp\n",
       "<a href=\"HB.html\" target=\"_self\"><font size=\"5\">Hybrid Model</font></a>&nbsp&nbsp\n",
       "<a href=\"Con.html\" target=\"_self\"><font size=\"5\">Conclusion</font></a>&nbsp&nbsp"
      ],
      "text/plain": [
       "<IPython.core.display.HTML object>"
      ]
     },
     "metadata": {},
     "output_type": "display_data"
    }
   ],
   "source": [
    "%%html\n",
    "<a href=\"Intro.html\" target=\"_self\"><font size=\"5\">Introduction</a>&nbsp&nbsp&nbsp\n",
    "<a href=\"CF.html\" target=\"_self\"><font size=\"5\">Collaborative Filtering</font></a>&nbsp&nbsp\n",
    "<a href=\"MF.html\" target=\"_self\"><font size=\"5\">Matrix Factorization</font></a>&nbsp&nbsp\n",
    "<a href=\"HB.html\" target=\"_self\"><font size=\"5\">Hybrid Model</font></a>&nbsp&nbsp\n",
    "<a href=\"Con.html\" target=\"_self\"><font size=\"5\">Conclusion</font></a>&nbsp&nbsp"
   ]
  },
  {
   "cell_type": "code",
   "execution_count": null,
   "metadata": {
    "collapsed": true
   },
   "outputs": [],
   "source": []
  }
 ],
 "metadata": {
  "anaconda-cloud": {},
  "kernelspec": {
   "display_name": "Python [Root]",
   "language": "python",
   "name": "Python [Root]"
  },
  "language_info": {
   "codemirror_mode": {
    "name": "ipython",
    "version": 2
   },
   "file_extension": ".py",
   "mimetype": "text/x-python",
   "name": "python",
   "nbconvert_exporter": "python",
   "pygments_lexer": "ipython2",
   "version": "2.7.12"
  }
 },
 "nbformat": 4,
 "nbformat_minor": 0
}
