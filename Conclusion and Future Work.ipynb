{
 "cells": [
  {
   "cell_type": "code",
   "execution_count": 10,
   "metadata": {
    "collapsed": false
   },
   "outputs": [
    {
     "data": {
      "text/html": [
       "<script>\n",
       "code_show=true;\n",
       "function code_toggle() {\n",
       " if (code_show){\n",
       " $('div.input').hide();\n",
       " } else {\n",
       " $('div.input').show();\n",
       " }\n",
       " code_show = !code_show\n",
       "}\n",
       "$( document ).ready(code_toggle);\n",
       "</script>\n",
       "<form action=\"javascript:code_toggle()\"><input type=\"submit\" value=\"Click here to toggle on/off the raw code.\"></form>"
      ],
      "text/plain": [
       "<IPython.core.display.HTML object>"
      ]
     },
     "execution_count": 10,
     "metadata": {},
     "output_type": "execute_result"
    }
   ],
   "source": [
    "from IPython.display import HTML\n",
    "\n",
    "HTML('''<script>\n",
    "code_show=true;\n",
    "function code_toggle() {\n",
    " if (code_show){\n",
    " $('div.input').hide();\n",
    " } else {\n",
    " $('div.input').show();\n",
    " }\n",
    " code_show = !code_show\n",
    "}\n",
    "$( document ).ready(code_toggle);\n",
    "</script>\n",
    "<form action=\"javascript:code_toggle()\"><input type=\"submit\" value=\"Click here to toggle on/off the raw code.\"></form>''')"
   ]
  },
  {
   "cell_type": "code",
   "execution_count": 11,
   "metadata": {
    "collapsed": false
   },
   "outputs": [
    {
     "data": {
      "text/html": [
       "<a href=\"Intro.html\" target=\"_self\"><font size=\"5\">Introduction</font></a>&nbsp&nbsp&nbsp\n",
       "<a href=\"CF.html\" target=\"_self\"><font size=\"5\">Collaborative Filtering</font></a>&nbsp&nbsp&nbsp\n",
       "<a href=\"MF.html\" target=\"_self\"><font size=\"5\">Matrix Factorization</font></a>&nbsp&nbsp&nbsp\n",
       "<a href=\"HB.html\" target=\"_self\"><font size=\"5\">Hybrid Model</font></a>&nbsp&nbsp&nbsp"
      ],
      "text/plain": [
       "<IPython.core.display.HTML object>"
      ]
     },
     "metadata": {},
     "output_type": "display_data"
    }
   ],
   "source": [
    "%%html\n",
    "<a href=\"Intro.html\" target=\"_self\"><font size=\"5\">Introduction</font></a>&nbsp&nbsp&nbsp\n",
    "<a href=\"CF.html\" target=\"_self\"><font size=\"5\">Collaborative Filtering</font></a>&nbsp&nbsp&nbsp\n",
    "<a href=\"MF.html\" target=\"_self\"><font size=\"5\">Matrix Factorization</font></a>&nbsp&nbsp&nbsp\n",
    "<a href=\"HB.html\" target=\"_self\"><font size=\"5\">Hybrid Model</font></a>&nbsp&nbsp&nbsp"
   ]
  },
  {
   "cell_type": "markdown",
   "metadata": {},
   "source": [
    "- [Comparison between Models](#Comparison-between-Models)\n",
    "- [Conclusion and Future Work](#Conclusion-and-Future-Work)"
   ]
  },
  {
   "cell_type": "markdown",
   "metadata": {},
   "source": [
    "## Comparison between Models"
   ]
  },
  {
   "cell_type": "markdown",
   "metadata": {},
   "source": [
    "#### 1. Content Filtering Model\n",
    "In case of content filtering model, we create a profile for each user and each movie based on characteristics of that user or movie. So additional information about a user or movie is required in addition to user ratings. This also adds computational cost of processing and storing additional details. But this model can be used to predict ratings for a new user or movie given we have enough information about that movie/user to create a profile. \n",
    "\n",
    "#### 2. Collaborative-Filtering Model\n",
    "In case of collaborative filtering model, we use user history and movie similarity to predict ratings for a movie. There is no additional information required to create a profile for a user since the user history is determined based on user ratings on movies he has rated. But collaborative filtering movie suffers from `coldstart problem`. The problem is that the model is unable to recommend movies for a new user since there is no user history. Content filtering model does not face this issue.\n",
    "\n",
    "#### 3. Matrix Factorization Method\n",
    "Matrix factorization method is an alternative approach that tries to explain ratings by characterizing both users and movies from rating patterns. This model predicts ratings a user would give to a movie (which he has not yet rated).\n",
    "The tuning of matrix factorization method is computationally expensive but the accuracy of the model is higher than other models. Sparsity of matrix is also a problem for this method."
   ]
  },
  {
   "cell_type": "markdown",
   "metadata": {},
   "source": [
    "## Conclusion and Future Work"
   ]
  },
  {
   "cell_type": "markdown",
   "metadata": {},
   "source": [
    "We employed three different methods to recommend movies to users based on a subset of Amazon Movie and TV review data between May 1996 and July 2014. In the first method, we used item-based collaborative filtering, which involves the use of a similarity matrix between movies computed using ratings from users in our dataset. In our second approach, we perform matrix factorization to infer user preferences based on the underlying interactions between them. In our third approach, we consider a hybrid approach between content-based and collaborative filtering methods, using data on movie features to construct a similarity matrix between movies.\n",
    "\n",
    "Using the matrix factorization approach, we obtain an RMSE of 0.8338 using 2 latent features. With 3 latent features, we obtain an RMSE of 0.7960. For the item-based collaborative filtering model, we obtain an accuracy of 75.23% on a masked dataset. Unfortunately, for our hybrid approach, we had insufficient examples to perform masking in order to assess the accuracy of our model.\n",
    "\n",
    "For future work, we will attempt to build our recommender system on a larger - perhaps the entire - dataset. We might also attempt to integrate time effects into user ratings when building the item-based collaborative filtering model, where multiple ratings given by a user on a single day tend to concentrate around a single value."
   ]
  }
 ],
 "metadata": {
  "anaconda-cloud": {},
  "kernelspec": {
   "display_name": "Python [Root]",
   "language": "python",
   "name": "Python [Root]"
  },
  "language_info": {
   "codemirror_mode": {
    "name": "ipython",
    "version": 2
   },
   "file_extension": ".py",
   "mimetype": "text/x-python",
   "name": "python",
   "nbconvert_exporter": "python",
   "pygments_lexer": "ipython2",
   "version": "2.7.12"
  }
 },
 "nbformat": 4,
 "nbformat_minor": 0
}
