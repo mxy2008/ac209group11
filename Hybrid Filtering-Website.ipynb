{
 "cells": [
  {
   "cell_type": "code",
   "execution_count": 16,
   "metadata": {
    "collapsed": false
   },
   "outputs": [
    {
     "data": {
      "text/html": [
       "<script>\n",
       "code_show=true;\n",
       "function code_toggle() {\n",
       " if (code_show){\n",
       " $('div.input').hide();\n",
       " } else {\n",
       " $('div.input').show();\n",
       " }\n",
       " code_show = !code_show\n",
       "}\n",
       "$( document ).ready(code_toggle);\n",
       "</script>\n",
       "<form action=\"javascript:code_toggle()\"><input type=\"submit\" value=\"Click here to toggle on/off the raw code.\"></form>"
      ],
      "text/plain": [
       "<IPython.core.display.HTML object>"
      ]
     },
     "execution_count": 16,
     "metadata": {},
     "output_type": "execute_result"
    }
   ],
   "source": [
    "from IPython.display import HTML\n",
    "\n",
    "HTML('''<script>\n",
    "code_show=true;\n",
    "function code_toggle() {\n",
    " if (code_show){\n",
    " $('div.input').hide();\n",
    " } else {\n",
    " $('div.input').show();\n",
    " }\n",
    " code_show = !code_show\n",
    "}\n",
    "$( document ).ready(code_toggle);\n",
    "</script>\n",
    "<form action=\"javascript:code_toggle()\"><input type=\"submit\" value=\"Click here to toggle on/off the raw code.\"></form>''')"
   ]
  },
  {
   "cell_type": "code",
   "execution_count": 18,
   "metadata": {
    "collapsed": false
   },
   "outputs": [
    {
     "data": {
      "text/html": [
       "<a href=\"Intro.html\" target=\"_self\"><font size=\"5\">Introduction</font></a>&nbsp&nbsp&nbsp\n",
       "<a href=\"CF.html\" target=\"_self\"><font size=\"5\">Collaborative Filtering</font></a>&nbsp&nbsp&nbsp\n",
       "<a href=\"MF.html\" target=\"_self\"><font size=\"5\">Matrix Factorization</font></a>&nbsp&nbsp&nbsp\n",
       "<a href=\"Con.html\" target=\"_self\"><font size=\"5\">Conclusion</font></a>&nbsp&nbsp&nbsp"
      ],
      "text/plain": [
       "<IPython.core.display.HTML object>"
      ]
     },
     "metadata": {},
     "output_type": "display_data"
    }
   ],
   "source": [
    "%%html\n",
    "<a href=\"Intro.html\" target=\"_self\"><font size=\"5\">Introduction</font></a>&nbsp&nbsp&nbsp\n",
    "<a href=\"CF.html\" target=\"_self\"><font size=\"5\">Collaborative Filtering</font></a>&nbsp&nbsp&nbsp\n",
    "<a href=\"MF.html\" target=\"_self\"><font size=\"5\">Matrix Factorization</font></a>&nbsp&nbsp&nbsp\n",
    "<a href=\"Con.html\" target=\"_self\"><font size=\"5\">Conclusion</font></a>&nbsp&nbsp&nbsp"
   ]
  },
  {
   "cell_type": "markdown",
   "metadata": {},
   "source": [
    "# Hybrid Approach\n"
   ]
  },
  {
   "cell_type": "markdown",
   "metadata": {},
   "source": [
    "- [3.1 Our Model](#Our-Model)\n",
    "- [3.2 Recommendation Step](#Recommendation-Step)"
   ]
  },
  {
   "cell_type": "markdown",
   "metadata": {},
   "source": [
    "## Introduction\n",
    "\n",
    "We now incorporate content-based recommendations into our collaborative filtering model, leading to a hybrid between the two recommender system approaches. Since our original dataset contains the Amazon movie IDs, we utilize the Amazon API to extract relevant features of each movie. Using relevant metadata of each movie such as its genre, director, and cast, we assemble a similarity matrix between movies that is potentially more representative of the true similarities between movies, compared to our item-based approach from before which built a similarity matrix based on combining user ratings.\n",
    "\n",
    "We will repeat our modeling procedure from our item-based collaborative filtering model, switching the similarity matrix from the latter case with a similarity matrix developed from the similarity between features of movies.\n",
    "\n",
    "We present our procedure of developing the new similarity matrix, as well as some recommended movies for several users."
   ]
  },
  {
   "cell_type": "markdown",
   "metadata": {},
   "source": [
    "## Our Model"
   ]
  },
  {
   "cell_type": "markdown",
   "metadata": {},
   "source": [
    "### Loading Data\n",
    "\n",
    "We first load our dataset from before, which is a compressed dataset with 3 columns: movieID, reviewerID, and rating. Below is a sample of the dataset."
   ]
  },
  {
   "cell_type": "code",
   "execution_count": 1,
   "metadata": {
    "collapsed": false
   },
   "outputs": [],
   "source": [
    "# importing required modules\n",
    "import pandas as pd\n",
    "from scipy.spatial.distance import cosine\n",
    "import numpy as np\n",
    "from sklearn import preprocessing"
   ]
  },
  {
   "cell_type": "code",
   "execution_count": 2,
   "metadata": {
    "collapsed": false
   },
   "outputs": [
    {
     "data": {
      "text/html": [
       "<div>\n",
       "<table border=\"1\" class=\"dataframe\">\n",
       "  <thead>\n",
       "    <tr style=\"text-align: right;\">\n",
       "      <th></th>\n",
       "      <th>movieID</th>\n",
       "      <th>reviewerID</th>\n",
       "      <th>rating</th>\n",
       "    </tr>\n",
       "  </thead>\n",
       "  <tbody>\n",
       "    <tr>\n",
       "      <th>0</th>\n",
       "      <td>0005019281</td>\n",
       "      <td>ADZPIG9QOCDG5</td>\n",
       "      <td>4.0</td>\n",
       "    </tr>\n",
       "    <tr>\n",
       "      <th>1</th>\n",
       "      <td>0005019281</td>\n",
       "      <td>A35947ZP82G7JH</td>\n",
       "      <td>3.0</td>\n",
       "    </tr>\n",
       "    <tr>\n",
       "      <th>2</th>\n",
       "      <td>0005019281</td>\n",
       "      <td>A3UORV8A9D5L2E</td>\n",
       "      <td>3.0</td>\n",
       "    </tr>\n",
       "    <tr>\n",
       "      <th>3</th>\n",
       "      <td>0005019281</td>\n",
       "      <td>A1VKW06X1O2X7V</td>\n",
       "      <td>5.0</td>\n",
       "    </tr>\n",
       "    <tr>\n",
       "      <th>4</th>\n",
       "      <td>0005019281</td>\n",
       "      <td>A3R27T4HADWFFJ</td>\n",
       "      <td>4.0</td>\n",
       "    </tr>\n",
       "  </tbody>\n",
       "</table>\n",
       "</div>"
      ],
      "text/plain": [
       "      movieID      reviewerID  rating\n",
       "0  0005019281   ADZPIG9QOCDG5     4.0\n",
       "1  0005019281  A35947ZP82G7JH     3.0\n",
       "2  0005019281  A3UORV8A9D5L2E     3.0\n",
       "3  0005019281  A1VKW06X1O2X7V     5.0\n",
       "4  0005019281  A3R27T4HADWFFJ     4.0"
      ]
     },
     "execution_count": 2,
     "metadata": {},
     "output_type": "execute_result"
    }
   ],
   "source": [
    "# The dataset we use for user collaborative filtering is compressed dataset with 3 columns: \n",
    "# movieID, reviewerID, and rating.\n",
    "# Here is the sample of the dataset.\n",
    "data_full = pd.read_csv('subset.csv')[[\"movieID\", \"reviewerID\", \"rating\"]]\n",
    "data_full.head()"
   ]
  },
  {
   "cell_type": "markdown",
   "metadata": {},
   "source": [
    "### Constructing the Movie Similarity Matrix"
   ]
  },
  {
   "cell_type": "markdown",
   "metadata": {},
   "source": [
    "We now construct the movie similarity matrix using metadata from the Amazon API. Our collected data is stored in the ``movie_info.csv`` file."
   ]
  },
  {
   "cell_type": "code",
   "execution_count": 3,
   "metadata": {
    "collapsed": false
   },
   "outputs": [],
   "source": [
    "data = pd.read_csv('movie_info.csv').iloc[:, range(1,13)]"
   ]
  },
  {
   "cell_type": "markdown",
   "metadata": {},
   "source": [
    "Since there are quite many missing values in the dataset, and they are categorical variables, instead of imputing with the mode, which may cause bias, we impute the dataset with random categories present in the columns. We present the imputed dataset below."
   ]
  },
  {
   "cell_type": "code",
   "execution_count": 8,
   "metadata": {
    "collapsed": false
   },
   "outputs": [],
   "source": [
    "# impute the dataset with random categories present in the columns\n",
    "data = data.apply(lambda x:x.fillna(x.unique()[randint(0, len(x.unique()) - 1)]))"
   ]
  },
  {
   "cell_type": "code",
   "execution_count": 9,
   "metadata": {
    "collapsed": false
   },
   "outputs": [
    {
     "data": {
      "text/html": [
       "<div>\n",
       "<table border=\"1\" class=\"dataframe\">\n",
       "  <thead>\n",
       "    <tr style=\"text-align: right;\">\n",
       "      <th></th>\n",
       "      <th>movidID</th>\n",
       "      <th>title</th>\n",
       "      <th>price</th>\n",
       "      <th>publisher</th>\n",
       "      <th>category</th>\n",
       "      <th>actor</th>\n",
       "      <th>audience_rating</th>\n",
       "      <th>brand</th>\n",
       "      <th>director</th>\n",
       "      <th>feature</th>\n",
       "      <th>genre</th>\n",
       "      <th>release_date</th>\n",
       "    </tr>\n",
       "  </thead>\n",
       "  <tbody>\n",
       "    <tr>\n",
       "      <th>0</th>\n",
       "      <td>310263662</td>\n",
       "      <td>The Passion of the Christ</td>\n",
       "      <td>10.14</td>\n",
       "      <td>Zondervan</td>\n",
       "      <td>DVD</td>\n",
       "      <td>Kurt Russell</td>\n",
       "      <td>PG-13 (Parents Strongly Cautioned)</td>\n",
       "      <td>Provident Distribution Group</td>\n",
       "      <td>Darren Aronofsky</td>\n",
       "      <td>Condition: Used - Good</td>\n",
       "      <td>Performing Arts</td>\n",
       "      <td>8/31/04</td>\n",
       "    </tr>\n",
       "    <tr>\n",
       "      <th>1</th>\n",
       "      <td>767002652</td>\n",
       "      <td>Upstairs Downstairs - The Premiere Season [VHS]</td>\n",
       "      <td>9.99</td>\n",
       "      <td>A&amp;E Home Video</td>\n",
       "      <td>Video</td>\n",
       "      <td>Pauline Collins</td>\n",
       "      <td>NR (Not Rated)</td>\n",
       "      <td>Sony</td>\n",
       "      <td>Bill Bain</td>\n",
       "      <td>Condition: Used - Good</td>\n",
       "      <td>Hero</td>\n",
       "      <td>1/15/98</td>\n",
       "    </tr>\n",
       "    <tr>\n",
       "      <th>2</th>\n",
       "      <td>076780192X</td>\n",
       "      <td>Close Encounters of the Third Kind (Widescreen...</td>\n",
       "      <td>8.49</td>\n",
       "      <td>Sony Pictures Home E</td>\n",
       "      <td>Video</td>\n",
       "      <td>Richard Dreyfuss</td>\n",
       "      <td>PG (Parental Guidance Suggested)</td>\n",
       "      <td>Sony</td>\n",
       "      <td>Steven Spielberg</td>\n",
       "      <td>Condition: Used - Good</td>\n",
       "      <td>Hero</td>\n",
       "      <td>8/29/00</td>\n",
       "    </tr>\n",
       "    <tr>\n",
       "      <th>3</th>\n",
       "      <td>767802470</td>\n",
       "      <td>Das Boot - The Director's Cut</td>\n",
       "      <td>9.99</td>\n",
       "      <td>Sony Pictures Home Entertainment</td>\n",
       "      <td>DVD</td>\n",
       "      <td>Herbert Gronemeyer</td>\n",
       "      <td>R (Restricted)</td>\n",
       "      <td>Columbia/Tristar Studios</td>\n",
       "      <td>Wolfgang Petersen</td>\n",
       "      <td>Factory sealed DVD</td>\n",
       "      <td>Drama</td>\n",
       "      <td>12/9/97</td>\n",
       "    </tr>\n",
       "    <tr>\n",
       "      <th>4</th>\n",
       "      <td>767802519</td>\n",
       "      <td>Das Boot - The Director's Cut</td>\n",
       "      <td>9.99</td>\n",
       "      <td>Sony Pictures Home Entertainment</td>\n",
       "      <td>DVD</td>\n",
       "      <td>Herbert Gronemeyer</td>\n",
       "      <td>R (Restricted)</td>\n",
       "      <td>Columbia/Tristar Studios</td>\n",
       "      <td>Wolfgang Petersen</td>\n",
       "      <td>Factory sealed DVD</td>\n",
       "      <td>Drama</td>\n",
       "      <td>12/9/97</td>\n",
       "    </tr>\n",
       "  </tbody>\n",
       "</table>\n",
       "</div>"
      ],
      "text/plain": [
       "      movidID                                              title  price  \\\n",
       "0   310263662                          The Passion of the Christ  10.14   \n",
       "1   767002652    Upstairs Downstairs - The Premiere Season [VHS]   9.99   \n",
       "2  076780192X  Close Encounters of the Third Kind (Widescreen...   8.49   \n",
       "3   767802470                      Das Boot - The Director's Cut   9.99   \n",
       "4   767802519                      Das Boot - The Director's Cut   9.99   \n",
       "\n",
       "                          publisher category               actor  \\\n",
       "0                         Zondervan      DVD        Kurt Russell   \n",
       "1                    A&E Home Video    Video     Pauline Collins   \n",
       "2              Sony Pictures Home E    Video    Richard Dreyfuss   \n",
       "3  Sony Pictures Home Entertainment      DVD  Herbert Gronemeyer   \n",
       "4  Sony Pictures Home Entertainment      DVD  Herbert Gronemeyer   \n",
       "\n",
       "                      audience_rating                         brand  \\\n",
       "0  PG-13 (Parents Strongly Cautioned)  Provident Distribution Group   \n",
       "1                      NR (Not Rated)                          Sony   \n",
       "2    PG (Parental Guidance Suggested)                          Sony   \n",
       "3                      R (Restricted)      Columbia/Tristar Studios   \n",
       "4                      R (Restricted)      Columbia/Tristar Studios   \n",
       "\n",
       "            director                 feature            genre release_date  \n",
       "0   Darren Aronofsky  Condition: Used - Good  Performing Arts      8/31/04  \n",
       "1          Bill Bain  Condition: Used - Good             Hero      1/15/98  \n",
       "2   Steven Spielberg  Condition: Used - Good             Hero      8/29/00  \n",
       "3  Wolfgang Petersen      Factory sealed DVD            Drama      12/9/97  \n",
       "4  Wolfgang Petersen      Factory sealed DVD            Drama      12/9/97  "
      ]
     },
     "execution_count": 9,
     "metadata": {},
     "output_type": "execute_result"
    }
   ],
   "source": [
    "data.head(n = 5)"
   ]
  },
  {
   "cell_type": "markdown",
   "metadata": {},
   "source": [
    "To compare the similarity between columns, we will use cosine similarity measure between each movie. This means that the data in each column has to be numeric. As such, we used the ``LabelEncoder`` package in ``sklearn`` to process the data. Note that this might inadvertedly cause the categorical variables to be \"ordinal\", i.e. existence of some rank order but this should not impact our similarity comparison. The \"ordinal\" effect of variables will only be more profound when we are trying to predict the outcome with models like Logistic Regression. The table below shows some of the encoded metadata."
   ]
  },
  {
   "cell_type": "code",
   "execution_count": 11,
   "metadata": {
    "collapsed": false
   },
   "outputs": [
    {
     "data": {
      "text/html": [
       "<div>\n",
       "<table border=\"1\" class=\"dataframe\">\n",
       "  <thead>\n",
       "    <tr style=\"text-align: right;\">\n",
       "      <th></th>\n",
       "      <th>publisher</th>\n",
       "      <th>category</th>\n",
       "      <th>actor</th>\n",
       "      <th>audience_rating</th>\n",
       "      <th>brand</th>\n",
       "      <th>director</th>\n",
       "      <th>feature</th>\n",
       "      <th>genre</th>\n",
       "      <th>release_date</th>\n",
       "    </tr>\n",
       "  </thead>\n",
       "  <tbody>\n",
       "    <tr>\n",
       "      <th>0</th>\n",
       "      <td>26</td>\n",
       "      <td>0</td>\n",
       "      <td>31</td>\n",
       "      <td>4</td>\n",
       "      <td>13</td>\n",
       "      <td>12</td>\n",
       "      <td>7</td>\n",
       "      <td>11</td>\n",
       "      <td>50</td>\n",
       "    </tr>\n",
       "    <tr>\n",
       "      <th>1</th>\n",
       "      <td>1</td>\n",
       "      <td>1</td>\n",
       "      <td>41</td>\n",
       "      <td>1</td>\n",
       "      <td>14</td>\n",
       "      <td>5</td>\n",
       "      <td>7</td>\n",
       "      <td>6</td>\n",
       "      <td>3</td>\n",
       "    </tr>\n",
       "    <tr>\n",
       "      <th>2</th>\n",
       "      <td>11</td>\n",
       "      <td>1</td>\n",
       "      <td>42</td>\n",
       "      <td>2</td>\n",
       "      <td>14</td>\n",
       "      <td>45</td>\n",
       "      <td>7</td>\n",
       "      <td>6</td>\n",
       "      <td>48</td>\n",
       "    </tr>\n",
       "    <tr>\n",
       "      <th>3</th>\n",
       "      <td>12</td>\n",
       "      <td>0</td>\n",
       "      <td>15</td>\n",
       "      <td>5</td>\n",
       "      <td>6</td>\n",
       "      <td>50</td>\n",
       "      <td>11</td>\n",
       "      <td>4</td>\n",
       "      <td>23</td>\n",
       "    </tr>\n",
       "    <tr>\n",
       "      <th>4</th>\n",
       "      <td>12</td>\n",
       "      <td>0</td>\n",
       "      <td>15</td>\n",
       "      <td>5</td>\n",
       "      <td>6</td>\n",
       "      <td>50</td>\n",
       "      <td>11</td>\n",
       "      <td>4</td>\n",
       "      <td>23</td>\n",
       "    </tr>\n",
       "  </tbody>\n",
       "</table>\n",
       "</div>"
      ],
      "text/plain": [
       "   publisher  category  actor  audience_rating  brand  director  feature  \\\n",
       "0         26         0     31                4     13        12        7   \n",
       "1          1         1     41                1     14         5        7   \n",
       "2         11         1     42                2     14        45        7   \n",
       "3         12         0     15                5      6        50       11   \n",
       "4         12         0     15                5      6        50       11   \n",
       "\n",
       "   genre  release_date  \n",
       "0     11            50  \n",
       "1      6             3  \n",
       "2      6            48  \n",
       "3      4            23  \n",
       "4      4            23  "
      ]
     },
     "execution_count": 11,
     "metadata": {},
     "output_type": "execute_result"
    }
   ],
   "source": [
    "encodedCol = data.iloc[:, range(3,12)].apply(preprocessing.LabelEncoder().fit_transform)\n",
    "encodedCol.head()"
   ]
  },
  {
   "cell_type": "markdown",
   "metadata": {},
   "source": [
    "Alarmingly, we only have 68 unique movies in this dataset, based on the names of the movies. However, they have unique movieID as extracted from the database. We will first proceed with finding out the similarity matrix for the 449 movies (asssuming they are unique). If time permits, we will revisit this problem and learn to extract unique movies from Amazon API."
   ]
  },
  {
   "cell_type": "markdown",
   "metadata": {},
   "source": [
    "We will use Cosine similarity to measure the similarity between two non-zero vectors. Two vectors of the the same orientation will have a cosine similarity of 1, while two vectors of  $90^{\\circ}$  will have a cosine similarity of 0. We display the first 5 rows of the similarity matrix computed."
   ]
  },
  {
   "cell_type": "code",
   "execution_count": 20,
   "metadata": {
    "collapsed": false
   },
   "outputs": [
    {
     "data": {
      "text/html": [
       "<div>\n",
       "<table border=\"1\" class=\"dataframe\">\n",
       "  <thead>\n",
       "    <tr style=\"text-align: right;\">\n",
       "      <th></th>\n",
       "      <th>310263662</th>\n",
       "      <th>767002652</th>\n",
       "      <th>076780192X</th>\n",
       "      <th>767802470</th>\n",
       "      <th>767802519</th>\n",
       "      <th>767802624</th>\n",
       "      <th>767802659</th>\n",
       "      <th>767805267</th>\n",
       "      <th>767811100</th>\n",
       "      <th>767824571</th>\n",
       "      <th>...</th>\n",
       "      <th>B00006RCNW</th>\n",
       "      <th>B00007E2F5</th>\n",
       "      <th>B000083C6V</th>\n",
       "      <th>B00008DDVU</th>\n",
       "      <th>B00008DDXB</th>\n",
       "      <th>B00008EY63</th>\n",
       "      <th>B00008W64E</th>\n",
       "      <th>B00008YGRU</th>\n",
       "      <th>B00009MGEM</th>\n",
       "      <th>B00009OOFA</th>\n",
       "    </tr>\n",
       "  </thead>\n",
       "  <tbody>\n",
       "    <tr>\n",
       "      <th>310263662</th>\n",
       "      <td>1</td>\n",
       "      <td>0.605415</td>\n",
       "      <td>0.881451</td>\n",
       "      <td>0.680368</td>\n",
       "      <td>0.680368</td>\n",
       "      <td>0.635233</td>\n",
       "      <td>0.635233</td>\n",
       "      <td>0.82512</td>\n",
       "      <td>0.82512</td>\n",
       "      <td>0.828958</td>\n",
       "      <td>...</td>\n",
       "      <td>0.478732</td>\n",
       "      <td>0.478732</td>\n",
       "      <td>0.478732</td>\n",
       "      <td>0.478732</td>\n",
       "      <td>0.478732</td>\n",
       "      <td>0.836313</td>\n",
       "      <td>0.836313</td>\n",
       "      <td>0.921959</td>\n",
       "      <td>0.921959</td>\n",
       "      <td>0.921959</td>\n",
       "    </tr>\n",
       "    <tr>\n",
       "      <th>767002652</th>\n",
       "      <td>0.605415</td>\n",
       "      <td>1</td>\n",
       "      <td>0.665278</td>\n",
       "      <td>0.443719</td>\n",
       "      <td>0.443719</td>\n",
       "      <td>0.933954</td>\n",
       "      <td>0.933954</td>\n",
       "      <td>0.3066</td>\n",
       "      <td>0.3066</td>\n",
       "      <td>0.388308</td>\n",
       "      <td>...</td>\n",
       "      <td>0.458631</td>\n",
       "      <td>0.458631</td>\n",
       "      <td>0.458631</td>\n",
       "      <td>0.458631</td>\n",
       "      <td>0.458631</td>\n",
       "      <td>0.913536</td>\n",
       "      <td>0.913536</td>\n",
       "      <td>0.54524</td>\n",
       "      <td>0.54524</td>\n",
       "      <td>0.54524</td>\n",
       "    </tr>\n",
       "    <tr>\n",
       "      <th>076780192X</th>\n",
       "      <td>0.881451</td>\n",
       "      <td>0.665278</td>\n",
       "      <td>1</td>\n",
       "      <td>0.891936</td>\n",
       "      <td>0.891936</td>\n",
       "      <td>0.627992</td>\n",
       "      <td>0.627992</td>\n",
       "      <td>0.895837</td>\n",
       "      <td>0.895837</td>\n",
       "      <td>0.927992</td>\n",
       "      <td>...</td>\n",
       "      <td>0.760439</td>\n",
       "      <td>0.760439</td>\n",
       "      <td>0.760439</td>\n",
       "      <td>0.760439</td>\n",
       "      <td>0.760439</td>\n",
       "      <td>0.885954</td>\n",
       "      <td>0.885954</td>\n",
       "      <td>0.871617</td>\n",
       "      <td>0.871617</td>\n",
       "      <td>0.871617</td>\n",
       "    </tr>\n",
       "    <tr>\n",
       "      <th>767802470</th>\n",
       "      <td>0.680368</td>\n",
       "      <td>0.443719</td>\n",
       "      <td>0.891936</td>\n",
       "      <td>1</td>\n",
       "      <td>1</td>\n",
       "      <td>0.447691</td>\n",
       "      <td>0.447691</td>\n",
       "      <td>0.906124</td>\n",
       "      <td>0.906124</td>\n",
       "      <td>0.910325</td>\n",
       "      <td>...</td>\n",
       "      <td>0.937806</td>\n",
       "      <td>0.937806</td>\n",
       "      <td>0.937806</td>\n",
       "      <td>0.937806</td>\n",
       "      <td>0.937806</td>\n",
       "      <td>0.673311</td>\n",
       "      <td>0.673311</td>\n",
       "      <td>0.642559</td>\n",
       "      <td>0.642559</td>\n",
       "      <td>0.642559</td>\n",
       "    </tr>\n",
       "    <tr>\n",
       "      <th>767802519</th>\n",
       "      <td>0.680368</td>\n",
       "      <td>0.443719</td>\n",
       "      <td>0.891936</td>\n",
       "      <td>1</td>\n",
       "      <td>1</td>\n",
       "      <td>0.447691</td>\n",
       "      <td>0.447691</td>\n",
       "      <td>0.906124</td>\n",
       "      <td>0.906124</td>\n",
       "      <td>0.910325</td>\n",
       "      <td>...</td>\n",
       "      <td>0.937806</td>\n",
       "      <td>0.937806</td>\n",
       "      <td>0.937806</td>\n",
       "      <td>0.937806</td>\n",
       "      <td>0.937806</td>\n",
       "      <td>0.673311</td>\n",
       "      <td>0.673311</td>\n",
       "      <td>0.642559</td>\n",
       "      <td>0.642559</td>\n",
       "      <td>0.642559</td>\n",
       "    </tr>\n",
       "  </tbody>\n",
       "</table>\n",
       "<p>5 rows × 449 columns</p>\n",
       "</div>"
      ],
      "text/plain": [
       "           310263662 767002652 076780192X 767802470 767802519 767802624  \\\n",
       "310263662          1  0.605415   0.881451  0.680368  0.680368  0.635233   \n",
       "767002652   0.605415         1   0.665278  0.443719  0.443719  0.933954   \n",
       "076780192X  0.881451  0.665278          1  0.891936  0.891936  0.627992   \n",
       "767802470   0.680368  0.443719   0.891936         1         1  0.447691   \n",
       "767802519   0.680368  0.443719   0.891936         1         1  0.447691   \n",
       "\n",
       "           767802659 767805267 767811100 767824571    ...     B00006RCNW  \\\n",
       "310263662   0.635233   0.82512   0.82512  0.828958    ...       0.478732   \n",
       "767002652   0.933954    0.3066    0.3066  0.388308    ...       0.458631   \n",
       "076780192X  0.627992  0.895837  0.895837  0.927992    ...       0.760439   \n",
       "767802470   0.447691  0.906124  0.906124  0.910325    ...       0.937806   \n",
       "767802519   0.447691  0.906124  0.906124  0.910325    ...       0.937806   \n",
       "\n",
       "           B00007E2F5 B000083C6V B00008DDVU B00008DDXB B00008EY63 B00008W64E  \\\n",
       "310263662    0.478732   0.478732   0.478732   0.478732   0.836313   0.836313   \n",
       "767002652    0.458631   0.458631   0.458631   0.458631   0.913536   0.913536   \n",
       "076780192X   0.760439   0.760439   0.760439   0.760439   0.885954   0.885954   \n",
       "767802470    0.937806   0.937806   0.937806   0.937806   0.673311   0.673311   \n",
       "767802519    0.937806   0.937806   0.937806   0.937806   0.673311   0.673311   \n",
       "\n",
       "           B00008YGRU B00009MGEM B00009OOFA  \n",
       "310263662    0.921959   0.921959   0.921959  \n",
       "767002652     0.54524    0.54524    0.54524  \n",
       "076780192X   0.871617   0.871617   0.871617  \n",
       "767802470    0.642559   0.642559   0.642559  \n",
       "767802519    0.642559   0.642559   0.642559  \n",
       "\n",
       "[5 rows x 449 columns]"
      ]
     },
     "execution_count": 20,
     "metadata": {},
     "output_type": "execute_result"
    }
   ],
   "source": [
    "# generate the similarity matrix\n",
    "# Let's fill in those empty spaces with cosine similarities\n",
    "#outer loop to loop through each item\n",
    "for i in range(0,len(movie_similarity_matrix.columns)) :\n",
    "    #inner loop to identify similarity of the other columns with the column\n",
    "    for j in range(0, len(movie_similarity_matrix.columns)) :\n",
    "    # Fill in placeholder with cosine similarities\n",
    "    # identical items will have value of 1\n",
    "      movie_similarity_matrix.ix[i,j] = 1 - cosine(dfnew.ix[:,i], dfnew.ix[:,j])\n",
    "        \n",
    "movie_similarity_matrix.head()"
   ]
  },
  {
   "cell_type": "markdown",
   "metadata": {},
   "source": [
    "The table below shows the 9 nearest-neighbor movies for selected movies in the dataset."
   ]
  },
  {
   "cell_type": "code",
   "execution_count": 23,
   "metadata": {
    "collapsed": false
   },
   "outputs": [
    {
     "data": {
      "text/html": [
       "<div>\n",
       "<table border=\"1\" class=\"dataframe\">\n",
       "  <thead>\n",
       "    <tr style=\"text-align: right;\">\n",
       "      <th></th>\n",
       "      <th>1</th>\n",
       "      <th>2</th>\n",
       "      <th>3</th>\n",
       "      <th>4</th>\n",
       "      <th>5</th>\n",
       "      <th>6</th>\n",
       "      <th>7</th>\n",
       "      <th>8</th>\n",
       "      <th>9</th>\n",
       "    </tr>\n",
       "  </thead>\n",
       "  <tbody>\n",
       "    <tr>\n",
       "      <th>310263662</th>\n",
       "      <td>790745399</td>\n",
       "      <td>792101448</td>\n",
       "      <td>792101324</td>\n",
       "      <td>079074841X</td>\n",
       "      <td>783241542</td>\n",
       "      <td>783221088</td>\n",
       "      <td>783221487</td>\n",
       "      <td>6301208773</td>\n",
       "      <td>630150528X</td>\n",
       "    </tr>\n",
       "    <tr>\n",
       "      <th>767002652</th>\n",
       "      <td>1415718113</td>\n",
       "      <td>080017948X</td>\n",
       "      <td>1404983082</td>\n",
       "      <td>1415724784</td>\n",
       "      <td>1415724806</td>\n",
       "      <td>1417030321</td>\n",
       "      <td>1417054069</td>\n",
       "      <td>1400322715</td>\n",
       "      <td>6304089767</td>\n",
       "    </tr>\n",
       "    <tr>\n",
       "      <th>076780192X</th>\n",
       "      <td>783239408</td>\n",
       "      <td>783241038</td>\n",
       "      <td>B00005JKQZ</td>\n",
       "      <td>B00005JKVZ</td>\n",
       "      <td>B00005JKZY</td>\n",
       "      <td>B00005JL3A</td>\n",
       "      <td>B00005JL3T</td>\n",
       "      <td>792833171</td>\n",
       "      <td>792837614</td>\n",
       "    </tr>\n",
       "    <tr>\n",
       "      <th>767802470</th>\n",
       "      <td>767802470</td>\n",
       "      <td>B00005JL8F</td>\n",
       "      <td>B00005JL78</td>\n",
       "      <td>B00005JLBE</td>\n",
       "      <td>B00005JLBQ</td>\n",
       "      <td>B00005JLET</td>\n",
       "      <td>B00005JLF2</td>\n",
       "      <td>B00005JLKN</td>\n",
       "      <td>B00005JOC9</td>\n",
       "    </tr>\n",
       "    <tr>\n",
       "      <th>767802519</th>\n",
       "      <td>767802470</td>\n",
       "      <td>B00005JL8F</td>\n",
       "      <td>B00005JL78</td>\n",
       "      <td>B00005JLBE</td>\n",
       "      <td>B00005JLBQ</td>\n",
       "      <td>B00005JLET</td>\n",
       "      <td>B00005JLF2</td>\n",
       "      <td>B00005JLKN</td>\n",
       "      <td>B00005JOC9</td>\n",
       "    </tr>\n",
       "  </tbody>\n",
       "</table>\n",
       "</div>"
      ],
      "text/plain": [
       "                     1           2           3           4           5  \\\n",
       "310263662    790745399   792101448   792101324  079074841X   783241542   \n",
       "767002652   1415718113  080017948X  1404983082  1415724784  1415724806   \n",
       "076780192X   783239408   783241038  B00005JKQZ  B00005JKVZ  B00005JKZY   \n",
       "767802470    767802470  B00005JL8F  B00005JL78  B00005JLBE  B00005JLBQ   \n",
       "767802519    767802470  B00005JL8F  B00005JL78  B00005JLBE  B00005JLBQ   \n",
       "\n",
       "                     6           7           8           9  \n",
       "310263662    783221088   783221487  6301208773  630150528X  \n",
       "767002652   1417030321  1417054069  1400322715  6304089767  \n",
       "076780192X  B00005JL3A  B00005JL3T   792833171   792837614  \n",
       "767802470   B00005JLET  B00005JLF2  B00005JLKN  B00005JOC9  \n",
       "767802519   B00005JLET  B00005JLF2  B00005JLKN  B00005JOC9  "
      ]
     },
     "execution_count": 23,
     "metadata": {},
     "output_type": "execute_result"
    }
   ],
   "source": [
    "# loop through similarity matrix above and fill in the neighbor names\n",
    "# shortlist the top 5 most similar hours to respective hours\n",
    "for i in range(0, len(movie_similarity_matrix.columns)):\n",
    "    data_neighbors.iloc[i, :] = movie_similarity_matrix.iloc[:, i].sort_values(ascending = False)[1:10].index\n",
    "    \n",
    "data_neighbors.head()"
   ]
  },
  {
   "cell_type": "markdown",
   "metadata": {},
   "source": [
    "## Recommendation Step"
   ]
  },
  {
   "cell_type": "markdown",
   "metadata": {},
   "source": [
    "We will now use the similarity matrix computed above to recommend movies to users based on the same procedure that we used as in the case of the item-based filtering from before."
   ]
  },
  {
   "cell_type": "code",
   "execution_count": 31,
   "metadata": {
    "collapsed": false
   },
   "outputs": [
    {
     "data": {
      "text/html": [
       "<div>\n",
       "<table border=\"1\" class=\"dataframe\">\n",
       "  <thead>\n",
       "    <tr style=\"text-align: right;\">\n",
       "      <th></th>\n",
       "      <th>1</th>\n",
       "      <th>2</th>\n",
       "      <th>3</th>\n",
       "      <th>4</th>\n",
       "      <th>5</th>\n",
       "      <th>6</th>\n",
       "    </tr>\n",
       "    <tr>\n",
       "      <th>reviewerID</th>\n",
       "      <th></th>\n",
       "      <th></th>\n",
       "      <th></th>\n",
       "      <th></th>\n",
       "      <th></th>\n",
       "      <th></th>\n",
       "    </tr>\n",
       "  </thead>\n",
       "  <tbody>\n",
       "    <tr>\n",
       "      <th>A00503563AVX48TRHJGR6</th>\n",
       "      <td>B00009OOFA</td>\n",
       "      <td>6304383827</td>\n",
       "      <td>6304117752</td>\n",
       "      <td>6304176287</td>\n",
       "      <td>6304178352</td>\n",
       "      <td>6304214502</td>\n",
       "    </tr>\n",
       "    <tr>\n",
       "      <th>A0056274FAHZQC4N2ZN8</th>\n",
       "      <td>B00005QZ7U</td>\n",
       "      <td>B00005QCYC</td>\n",
       "      <td>B00005O5CM</td>\n",
       "      <td>B00005LOUP</td>\n",
       "      <td>B00005R87Q</td>\n",
       "      <td>6305076154</td>\n",
       "    </tr>\n",
       "    <tr>\n",
       "      <th>A00700212KB3K0MVESPIY</th>\n",
       "      <td>6303965415</td>\n",
       "      <td>6304117752</td>\n",
       "      <td>6304176287</td>\n",
       "      <td>6304178352</td>\n",
       "      <td>6304214502</td>\n",
       "      <td>6304233639</td>\n",
       "    </tr>\n",
       "    <tr>\n",
       "      <th>A01174011QPNX7GZF4B92</th>\n",
       "      <td>6300151379</td>\n",
       "      <td>6300183513</td>\n",
       "      <td>156219464X</td>\n",
       "      <td>1558908242</td>\n",
       "      <td>1558807381</td>\n",
       "      <td>1424819253</td>\n",
       "    </tr>\n",
       "    <tr>\n",
       "      <th>A0195162PO4TYE44CR9T</th>\n",
       "      <td>6303965415</td>\n",
       "      <td>6304117752</td>\n",
       "      <td>6304176287</td>\n",
       "      <td>6304178352</td>\n",
       "      <td>6304214502</td>\n",
       "      <td>6304233639</td>\n",
       "    </tr>\n",
       "  </tbody>\n",
       "</table>\n",
       "</div>"
      ],
      "text/plain": [
       "                                1           2           3           4  \\\n",
       "reviewerID                                                              \n",
       "A00503563AVX48TRHJGR6  B00009OOFA  6304383827  6304117752  6304176287   \n",
       "A0056274FAHZQC4N2ZN8   B00005QZ7U  B00005QCYC  B00005O5CM  B00005LOUP   \n",
       "A00700212KB3K0MVESPIY  6303965415  6304117752  6304176287  6304178352   \n",
       "A01174011QPNX7GZF4B92  6300151379  6300183513  156219464X  1558908242   \n",
       "A0195162PO4TYE44CR9T   6303965415  6304117752  6304176287  6304178352   \n",
       "\n",
       "                                5           6  \n",
       "reviewerID                                     \n",
       "A00503563AVX48TRHJGR6  6304178352  6304214502  \n",
       "A0056274FAHZQC4N2ZN8   B00005R87Q  6305076154  \n",
       "A00700212KB3K0MVESPIY  6304214502  6304233639  \n",
       "A01174011QPNX7GZF4B92  1558807381  1424819253  \n",
       "A0195162PO4TYE44CR9T   6304214502  6304233639  "
      ]
     },
     "execution_count": 31,
     "metadata": {},
     "output_type": "execute_result"
    }
   ],
   "source": [
    "for i in range(0,500):\n",
    "    # extract the top 6 scores, then obtain the top 6 movie names\n",
    "    data_recommend_new.ix[i,1:] = recommended_movie_matrix_new.ix[i,:].sort_values(ascending=False).ix[1:7,].index.transpose()\n",
    "data_recommend_new.head()\n",
    "data_recommend_new[['1', '2', '3', '4', '5', '6']].head()"
   ]
  },
  {
   "cell_type": "markdown",
   "metadata": {},
   "source": [
    "The above table displays 6 of the top recommended movies for 5 of the users in our dataset. Unfortunately, for our hybrid approach, we had insufficient examples to perform masking in order to assess the accuracy of our model, as we did with the item-based collaborative filtering method. We examine some of the movies recommended by the model.\n",
    "\n",
    "For example, for the first reviewer in the table above (reviewerID A00503563AVX48TRHJGR6), the recommended movies corresponding to the Amazon IDs are:\n",
    "1. Gods and Generals (B00009OOFA)\n",
    "2. Emma (6304383827)\n",
    "3. The Sound of Music (6304117752)\n",
    "4. Willy Wonka & the Chocolate Factory (6304176287)\n",
    "5. My Fair Lady (6304178352)\n",
    "6. Heat (6304214502)\n",
    "\n",
    "The above list comprise mainly of musicals and drama movies. As for the second reviewer (reviewerID A0056274FAHZQC4N2ZN8), the recommended movies are:\n",
    "1. Moulin Rouge (B00005QZ7U)\n",
    "2. Jurassic Park Trilogy (B00005QCYC)\n",
    "3. Legally Blonde (B00005O5CM)\n",
    "4. Dr. Seuss' How the Grinch Stole Christmas (B00005LOUP)\n",
    "5. The Fast and the Furious (B00005R87Q)\n",
    "6. Planet of the Apes Collection (6305076154)\n",
    "6. Fawlty Towers - The Complete Collection (6305076464)\n",
    "\n",
    "which is a mix of mostly action-based movies and comedy. And for the fourth reviewer (reviewer ID A01174011QPNX7GZF4B92), we recommend\n",
    "1. Labyrinth (6300151379)\n",
    "2. Rear Window (6300183513)\n",
    "3. Grave of the Fireflies (156219464X)\n",
    "5. Pulp Fiction (1558908242)\n",
    "5. Legend (1558807381)\n",
    "6. Stargate Sg-1: Season 1 (1424819253)\n",
    "\n",
    "which consist of mostly of crime action and drama films."
   ]
  }
 ],
 "metadata": {
  "anaconda-cloud": {},
  "kernelspec": {
   "display_name": "Python [Root]",
   "language": "python",
   "name": "Python [Root]"
  },
  "language_info": {
   "codemirror_mode": {
    "name": "ipython",
    "version": 2
   },
   "file_extension": ".py",
   "mimetype": "text/x-python",
   "name": "python",
   "nbconvert_exporter": "python",
   "pygments_lexer": "ipython2",
   "version": "2.7.12"
  }
 },
 "nbformat": 4,
 "nbformat_minor": 0
}
